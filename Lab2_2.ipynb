{
  "nbformat": 4,
  "nbformat_minor": 0,
  "metadata": {
    "colab": {
      "provenance": [],
      "authorship_tag": "ABX9TyOOt7/bMB+KClea07n66ZqW",
      "include_colab_link": true
    },
    "kernelspec": {
      "name": "python3",
      "display_name": "Python 3"
    },
    "language_info": {
      "name": "python"
    }
  },
  "cells": [
    {
      "cell_type": "markdown",
      "metadata": {
        "id": "view-in-github",
        "colab_type": "text"
      },
      "source": [
        "<a href=\"https://colab.research.google.com/github/samuelraj19006/aiac/blob/main/Lab2_2.ipynb\" target=\"_parent\"><img src=\"https://colab.research.google.com/assets/colab-badge.svg\" alt=\"Open In Colab\"/></a>"
      ]
    },
    {
      "cell_type": "code",
      "execution_count": null,
      "metadata": {
        "id": "_CQZ1reOr2Am"
      },
      "outputs": [],
      "source": []
    },
    {
      "cell_type": "markdown",
      "source": [],
      "metadata": {
        "id": "eiUY93tL19rc"
      }
    },
    {
      "cell_type": "markdown",
      "source": [
        "task0: write a python program to check whether the given number is prime or not"
      ],
      "metadata": {
        "id": "2v6FGajNsS5R"
      }
    },
    {
      "cell_type": "code",
      "source": [],
      "metadata": {
        "id": "-tPglRHSyEel"
      },
      "execution_count": null,
      "outputs": []
    },
    {
      "cell_type": "code",
      "source": [],
      "metadata": {
        "id": "ASoIo7nxsmre"
      },
      "execution_count": null,
      "outputs": []
    },
    {
      "cell_type": "code",
      "source": [
        "def is_prime(num):\n",
        "    \"\"\"Checks if a number is prime.\"\"\"\n",
        "    if num <= 1:\n",
        "        return False\n",
        "    for i in range(2, int(num**0.5) + 1):\n",
        "        if num % i == 0:\n",
        "            return False\n",
        "    return True\n",
        "\n",
        "# Example usage:\n",
        "number_to_check = 17\n",
        "if is_prime(number_to_check):\n",
        "    print(f\"{number_to_check} is a prime number.\")\n",
        "else:\n",
        "    print(f\"{number_to_check} is not a prime number.\")\n",
        "\n",
        "number_to_check = 10\n",
        "if is_prime(number_to_check):\n",
        "    print(f\"{number_to_check} is a prime number.\")\n",
        "else:\n",
        "    print(f\"{number_to_check} is not a prime number.\")"
      ],
      "metadata": {
        "colab": {
          "base_uri": "https://localhost:8080/"
        },
        "id": "mPGr1AZQtc6S",
        "outputId": "872b5867-98b9-4e64-b5bc-6cde2f7a3f7e"
      },
      "execution_count": null,
      "outputs": [
        {
          "output_type": "stream",
          "name": "stdout",
          "text": [
            "17 is a prime number.\n",
            "10 is not a prime number.\n"
          ]
        }
      ]
    },
    {
      "cell_type": "markdown",
      "source": [
        "write a function that filters out all negative numbers from a given list."
      ],
      "metadata": {
        "id": "VqwbBUfatH5A"
      }
    },
    {
      "cell_type": "code",
      "metadata": {
        "colab": {
          "base_uri": "https://localhost:8080/"
        },
        "id": "292d3367",
        "outputId": "a84e273a-3e18-4167-f22c-dc85f26df21f"
      },
      "source": [
        "def filter_negative_numbers(input_list):\n",
        "  \"\"\"Filters out negative numbers from a list.\"\"\"\n",
        "  return [num for num in input_list if num >= 0]\n",
        "\n",
        "# Example usage:\n",
        "my_list = [1, -2, 3, -4, 5, 0, -6]\n",
        "filtered_list = filter_negative_numbers(my_list)\n",
        "print(f\"Original list: {my_list}\")\n",
        "print(f\"Filtered list (non-negative numbers): {filtered_list}\")"
      ],
      "execution_count": 1,
      "outputs": [
        {
          "output_type": "stream",
          "name": "stdout",
          "text": [
            "Original list: [1, -2, 3, -4, 5, 0, -6]\n",
            "Filtered list (non-negative numbers): [1, 3, 5, 0]\n"
          ]
        }
      ]
    },
    {
      "cell_type": "markdown",
      "source": [
        "write a code that reads a text file and counts the frequency of each word (explain the code )"
      ],
      "metadata": {
        "id": "htsy7s9g3gC7"
      }
    },
    {
      "cell_type": "code",
      "metadata": {
        "id": "1113b574",
        "outputId": "b7431337-e3b4-4380-875c-e29b242fd609",
        "colab": {
          "base_uri": "https://localhost:8080/"
        }
      },
      "source": [
        "import collections\n",
        "\n",
        "def count_word_frequency(file_path):\n",
        "    \"\"\"Reads a text file and counts the frequency of each word.\"\"\"\n",
        "    word_counts = collections.Counter()\n",
        "    with open(file_path, 'r') as f:\n",
        "        for line in f:\n",
        "            words = line.strip().lower().split()\n",
        "            word_counts.update(words)\n",
        "    return word_counts\n",
        "\n",
        "# Example usage (assuming you have a file named 'sample.txt'):\n",
        "# Create a dummy file for demonstration\n",
        "with open('sample.txt', 'w') as f:\n",
        "    f.write(\"This is a sample text file.\\n\")\n",
        "    f.write(\"This file is for demonstrating word counting.\\n\")\n",
        "    f.write(\"This is a sample file again.\")\n",
        "\n",
        "file_path = 'sample.txt'\n",
        "word_frequencies = count_word_frequency(file_path)\n",
        "\n",
        "for word, count in word_frequencies.items():\n",
        "    print(f\"{word}: {count}\")"
      ],
      "execution_count": 2,
      "outputs": [
        {
          "output_type": "stream",
          "name": "stdout",
          "text": [
            "this: 3\n",
            "is: 3\n",
            "a: 2\n",
            "sample: 2\n",
            "text: 1\n",
            "file.: 1\n",
            "file: 2\n",
            "for: 1\n",
            "demonstrating: 1\n",
            "word: 1\n",
            "counting.: 1\n",
            "again.: 1\n"
          ]
        }
      ]
    },
    {
      "cell_type": "markdown",
      "source": [],
      "metadata": {
        "id": "GWcSF9Ls4d-f"
      }
    },
    {
      "cell_type": "markdown",
      "source": [],
      "metadata": {
        "id": "cH_DRKeY4j9y"
      }
    },
    {
      "cell_type": "markdown",
      "metadata": {
        "id": "659a66f3"
      },
      "source": [
        "**Code Explanation:**\n",
        "\n",
        "1.  **`import collections`**: This line imports the `collections` module, which provides the `Counter` class. The `Counter` class is a specialized dictionary subclass for counting hashable objects.\n",
        "2.  **`def count_word_frequency(file_path):`**: This defines a function named `count_word_frequency` that takes one argument: `file_path`, which is the path to the text file you want to process.\n",
        "3.  **`word_counts = collections.Counter()`**: This line initializes an empty `Counter` object named `word_counts`. This object will store the words and their corresponding frequencies.\n",
        "4.  **`with open(file_path, 'r') as f:`**: This opens the file specified by `file_path` in read mode (`'r'`). The `with` statement ensures that the file is automatically closed even if errors occur. The file object is assigned to the variable `f`.\n",
        "5.  **`for line in f:`**: This loop iterates through each line in the opened file.\n",
        "6.  **`words = line.strip().lower().split()`**: This line processes each line:\n",
        "    *   `line.strip()`: Removes leading and trailing whitespace (like newlines) from the line.\n",
        "    *   `.lower()`: Converts the line to lowercase to ensure that words like \"The\" and \"the\" are counted as the same word.\n",
        "    *   `.split()`: Splits the line into a list of words using whitespace as the delimiter.\n",
        "7.  **`word_counts.update(words)`**: This updates the `word_counts` Counter object by adding the words from the current line. If a word already exists in the Counter, its count is incremented; otherwise, the word is added with a count of 1.\n",
        "8.  **`return word_counts`**: After processing all lines, the function returns the `word_counts` Counter object, which contains the frequency of each word in the file.\n",
        "9.  **Example Usage**:\n",
        "    *   A dummy file named `sample.txt` is created for demonstration purposes.\n",
        "    *   The `count_word_frequency` function is called with the path to the dummy file.\n",
        "    *   The resulting `word_frequencies` (a Counter object) is then iterated through to print each word and its count."
      ]
    },
    {
      "cell_type": "markdown",
      "source": [],
      "metadata": {
        "id": "WBiK7Bvs4p0U"
      }
    }
  ]
}